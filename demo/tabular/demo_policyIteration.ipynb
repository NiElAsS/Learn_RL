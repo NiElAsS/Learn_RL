{
 "cells": [
  {
   "cell_type": "code",
   "execution_count": 1,
   "id": "3c9a9cd2",
   "metadata": {
    "ExecuteTime": {
     "end_time": "2021-12-21T20:16:23.117226Z",
     "start_time": "2021-12-21T20:16:23.106385Z"
    }
   },
   "outputs": [],
   "source": [
    "import gym\n",
    "import numpy"
   ]
  },
  {
   "cell_type": "code",
   "execution_count": 2,
   "id": "6798f7a3",
   "metadata": {
    "ExecuteTime": {
     "end_time": "2021-12-21T20:16:23.355835Z",
     "start_time": "2021-12-21T20:16:23.350163Z"
    }
   },
   "outputs": [],
   "source": [
    "# details plz read demo_policyEvaluation.ipynb\n",
    "def policy_eval(policy, env, discount = 1.0, tolerance = 0.00001):\n",
    "    value = np.zeros(env.nS)\n",
    "    \n",
    "    while True:\n",
    "        delta = 0\n",
    "        for state in range(env.nS):\n",
    "            v = 0\n",
    "            for action, prob_action in enumerate(policy[state]):\n",
    "                for prob_state, next_state, reward, done in env.P[state][action]:\n",
    "                    v += prob_action * prob_state * (reward + discount * value[next_state])\n",
    "            delta = max(delta, np.abs(v - value[state]))\n",
    "            value[state] = v\n",
    "        \n",
    "        if delta < tolerance:\n",
    "            break\n",
    "    return value\n",
    "        "
   ]
  },
  {
   "cell_type": "code",
   "execution_count": 3,
   "id": "355e45cb",
   "metadata": {
    "ExecuteTime": {
     "end_time": "2021-12-21T20:16:23.586035Z",
     "start_time": "2021-12-21T20:16:23.577032Z"
    }
   },
   "outputs": [],
   "source": [
    "def policy_improvement(env, value_function, state, discount):\n",
    "    '''\n",
    "    calculate the optimal(greedy) action according to current value function\n",
    "    '''\n",
    "    actions = np.zeros(env.nA)\n",
    "    # According to the equation from intro. to RL\n",
    "    for action in range(env.nA):\n",
    "        for prob_state, next_state, reward, done in env.P[state][action]:\n",
    "            actions[action] += prob_state * (reward + discount * value_function[next_state])\n",
    "    return np.argmax(actions)"
   ]
  },
  {
   "cell_type": "code",
   "execution_count": 4,
   "id": "7550adee",
   "metadata": {
    "ExecuteTime": {
     "end_time": "2021-12-21T20:16:23.807129Z",
     "start_time": "2021-12-21T20:16:23.798210Z"
    }
   },
   "outputs": [],
   "source": [
    "def policy_iteration(env, discount = 1):\n",
    "    '''\n",
    "    Do policy evaluation, then choose greedy action accordingly\n",
    "    '''\n",
    "    policy = np.random.rand(env.nS, env.nA)\n",
    "    # policy = np.zeros((env.nS, env.nA))\n",
    "    while True:\n",
    "        \n",
    "        # evaluate the current policy\n",
    "        value_function = policy_eval(policy, env)\n",
    "        stable = True\n",
    "        \n",
    "        for state in range(env.nS):\n",
    "            curr_action = np.argmax(policy[state])\n",
    "            optimal_action = policy_improvement(env, value_function, state, discount)\n",
    "\n",
    "            if optimal_action != curr_action:\n",
    "                stable = False\n",
    "            policy[state] = np.eye(env.nA)[optimal_action]\n",
    "        \n",
    "        if stable:\n",
    "            return policy, value_function\n",
    "            "
   ]
  },
  {
   "cell_type": "code",
   "execution_count": 5,
   "id": "d0476962",
   "metadata": {
    "ExecuteTime": {
     "end_time": "2021-12-21T20:16:24.218160Z",
     "start_time": "2021-12-21T20:16:23.975757Z"
    }
   },
   "outputs": [
    {
     "name": "stderr",
     "output_type": "stream",
     "text": [
      "/home/nielass/miniconda3/lib/python3.7/site-packages/ipykernel_launcher.py:11: RuntimeWarning: overflow encountered in double_scalars\n",
      "  # This is added back by InteractiveShellApp.init_path()\n",
      "/home/nielass/miniconda3/lib/python3.7/site-packages/ipykernel_launcher.py:12: RuntimeWarning: invalid value encountered in double_scalars\n",
      "  if sys.path[0] == '':\n"
     ]
    }
   ],
   "source": [
    "env = gym.make('FrozenLake-v1')\n",
    "env.reset()\n",
    "policy, value = policy_iteration(env)"
   ]
  },
  {
   "cell_type": "code",
   "execution_count": 6,
   "id": "d1a31fec",
   "metadata": {
    "ExecuteTime": {
     "end_time": "2021-12-21T20:16:24.231042Z",
     "start_time": "2021-12-21T20:16:24.228436Z"
    }
   },
   "outputs": [
    {
     "name": "stdout",
     "output_type": "stream",
     "text": [
      "The policy distribution: \n",
      "[[1. 0. 0. 0.]\n",
      " [0. 0. 0. 1.]\n",
      " [0. 0. 0. 1.]\n",
      " [0. 0. 0. 1.]\n",
      " [1. 0. 0. 0.]\n",
      " [1. 0. 0. 0.]\n",
      " [1. 0. 0. 0.]\n",
      " [1. 0. 0. 0.]\n",
      " [0. 0. 0. 1.]\n",
      " [0. 1. 0. 0.]\n",
      " [1. 0. 0. 0.]\n",
      " [1. 0. 0. 0.]\n",
      " [1. 0. 0. 0.]\n",
      " [0. 0. 1. 0.]\n",
      " [0. 1. 0. 0.]\n",
      " [1. 0. 0. 0.]]\n",
      "The action in each state: \n",
      "[[0 3 3 3]\n",
      " [0 0 0 0]\n",
      " [3 1 0 0]\n",
      " [0 2 1 0]]\n",
      "\n",
      "\u001b[41mS\u001b[0mFFF\n",
      "FHFH\n",
      "FFFH\n",
      "HFFG\n"
     ]
    }
   ],
   "source": [
    "print(\"The policy distribution: \")\n",
    "print(policy)\n",
    "print(\"The action in each state: \")\n",
    "print(np.reshape(np.argmax(policy, axis=1), (4,4)))\n",
    "env.render()\n",
    "env.close()"
   ]
  },
  {
   "cell_type": "code",
   "execution_count": 7,
   "id": "9e5cd828",
   "metadata": {
    "ExecuteTime": {
     "end_time": "2021-12-21T20:16:24.419105Z",
     "start_time": "2021-12-21T20:16:24.414871Z"
    }
   },
   "outputs": [
    {
     "name": "stdout",
     "output_type": "stream",
     "text": [
      "[[0.8233628  0.82330813 0.82327014 0.82325081]\n",
      " [0.82337956 0.         0.52929815 0.        ]\n",
      " [0.8234058  0.82343946 0.76462706 0.        ]\n",
      " [0.         0.88229042 0.94114466 0.        ]]\n"
     ]
    }
   ],
   "source": [
    "print(np.reshape(value, (4,4)))"
   ]
  },
  {
   "cell_type": "code",
   "execution_count": null,
   "id": "4fdc6f92",
   "metadata": {},
   "outputs": [],
   "source": []
  }
 ],
 "metadata": {
  "kernelspec": {
   "display_name": "Python 3 (ipykernel)",
   "language": "python",
   "name": "python3"
  },
  "language_info": {
   "codemirror_mode": {
    "name": "ipython",
    "version": 3
   },
   "file_extension": ".py",
   "mimetype": "text/x-python",
   "name": "python",
   "nbconvert_exporter": "python",
   "pygments_lexer": "ipython3",
   "version": "3.7.11"
  },
  "toc": {
   "base_numbering": 1,
   "nav_menu": {},
   "number_sections": true,
   "sideBar": true,
   "skip_h1_title": false,
   "title_cell": "Table of Contents",
   "title_sidebar": "Contents",
   "toc_cell": false,
   "toc_position": {},
   "toc_section_display": true,
   "toc_window_display": false
  },
  "varInspector": {
   "cols": {
    "lenName": 16,
    "lenType": 16,
    "lenVar": 40
   },
   "kernels_config": {
    "python": {
     "delete_cmd_postfix": "",
     "delete_cmd_prefix": "del ",
     "library": "var_list.py",
     "varRefreshCmd": "print(var_dic_list())"
    },
    "r": {
     "delete_cmd_postfix": ") ",
     "delete_cmd_prefix": "rm(",
     "library": "var_list.r",
     "varRefreshCmd": "cat(var_dic_list()) "
    }
   },
   "types_to_exclude": [
    "module",
    "function",
    "builtin_function_or_method",
    "instance",
    "_Feature"
   ],
   "window_display": false
  }
 },
 "nbformat": 4,
 "nbformat_minor": 5
}
