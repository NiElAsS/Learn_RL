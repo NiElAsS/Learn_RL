{
 "cells": [
  {
   "cell_type": "code",
   "execution_count": 30,
   "id": "7db14d01",
   "metadata": {
    "ExecuteTime": {
     "end_time": "2021-12-22T21:37:42.350644Z",
     "start_time": "2021-12-22T21:37:42.348924Z"
    }
   },
   "outputs": [],
   "source": [
    "import gym\n",
    "import numpy as np"
   ]
  },
  {
   "cell_type": "code",
   "execution_count": 31,
   "id": "1c60a498",
   "metadata": {
    "ExecuteTime": {
     "end_time": "2021-12-22T21:37:42.542563Z",
     "start_time": "2021-12-22T21:37:42.534123Z"
    }
   },
   "outputs": [],
   "source": [
    "# env = gym.make('FrozenLake8x8-v1')\n",
    "env = gym.make('FrozenLake-v1')"
   ]
  },
  {
   "cell_type": "code",
   "execution_count": 32,
   "id": "cb9896ae",
   "metadata": {
    "ExecuteTime": {
     "end_time": "2021-12-22T21:37:42.722157Z",
     "start_time": "2021-12-22T21:37:42.714576Z"
    }
   },
   "outputs": [
    {
     "name": "stdout",
     "output_type": "stream",
     "text": [
      "16\n",
      "Discrete(16)\n",
      "4\n",
      "Discrete(4)\n"
     ]
    }
   ],
   "source": [
    "print(env.nS)\n",
    "print(env.observation_space)\n",
    "print(env.nA)\n",
    "print(env.action_space)"
   ]
  },
  {
   "cell_type": "code",
   "execution_count": 33,
   "id": "f63307a2",
   "metadata": {
    "ExecuteTime": {
     "end_time": "2021-12-22T21:37:42.955303Z",
     "start_time": "2021-12-22T21:37:42.948993Z"
    }
   },
   "outputs": [],
   "source": [
    "def policy(q_function, state, epsilon):\n",
    "    # eps-greedy policy\n",
    "    optimal_action = np.argmax(q_function[state])\n",
    "    if np.random.uniform() > epsilon:\n",
    "        return optimal_action\n",
    "    else:\n",
    "        return np.random.choice(len(q_function[state]))"
   ]
  },
  {
   "cell_type": "code",
   "execution_count": 52,
   "id": "07edfde4",
   "metadata": {
    "ExecuteTime": {
     "end_time": "2021-12-22T21:42:22.742223Z",
     "start_time": "2021-12-22T21:42:22.735245Z"
    }
   },
   "outputs": [],
   "source": [
    "def mc_greedy(env, q_function, policy, episodes = 100000, discount = 1.0, epsilon = 0.1):\n",
    "    \n",
    "    return_sum = np.zeros((env.nS, env.nA))\n",
    "    return_count = np.zeros((env.nS, env.nA))\n",
    "    \n",
    "    for i_episode in range(1, episodes):\n",
    "        \n",
    "        record = []\n",
    "        state = env.reset()\n",
    "        for t in range(1000):\n",
    "            action = policy(q_function, state, epsilon)\n",
    "            next_state, reward, done, _ = env.step(action)\n",
    "            record.append((state, action, reward))\n",
    "            \n",
    "            if done:\n",
    "                break;\n",
    "            state = next_state\n",
    "            \n",
    "        # preparation for iterating all s-a pair in 'record'\n",
    "        state_action_pair_in_episode = set([(r[0], r[1]) for r in record])\n",
    "        for s, a in state_action_pair_in_episode:\n",
    "            first_occurence_index = next(i for i,x in enumerate(record)\n",
    "                                        if x[0] == s and x[1] == a)\n",
    "            G = sum([x[2] * (discount ** i) for i,x in enumerate(record[first_occurence_index:])])\n",
    "            return_sum[s][a] += G\n",
    "            return_count[s][a] += 1\n",
    "            q_function[s][a] = return_sum[s][a] / return_count[s][a]\n",
    "    \n",
    "    return q_function\n",
    "        "
   ]
  },
  {
   "cell_type": "code",
   "execution_count": 53,
   "id": "6ae88437",
   "metadata": {
    "ExecuteTime": {
     "end_time": "2021-12-22T21:42:44.257759Z",
     "start_time": "2021-12-22T21:42:23.018551Z"
    }
   },
   "outputs": [],
   "source": [
    "# q_function = np.random.rand(env.nS, env.nA)\n",
    "q_function = np.zeros((env.nS, env.nA))\n",
    "q = mc_greedy(env, q_function, policy)"
   ]
  },
  {
   "cell_type": "code",
   "execution_count": 54,
   "id": "b2c7af0a",
   "metadata": {
    "ExecuteTime": {
     "end_time": "2021-12-22T21:42:44.275800Z",
     "start_time": "2021-12-22T21:42:44.272265Z"
    }
   },
   "outputs": [
    {
     "name": "stdout",
     "output_type": "stream",
     "text": [
      "Epsilon-Optimal Value Function: \n",
      "[[0.27411473 0.24727211 0.21598855 0.20399476]\n",
      " [0.3194222  0.         0.23550197 0.        ]\n",
      " [0.39613182 0.49807827 0.50006256 0.        ]\n",
      " [0.         0.63120644 0.8056401  0.        ]]\n",
      "\n",
      "\u001b[41mS\u001b[0mFFF\n",
      "FHFH\n",
      "FFFH\n",
      "HFFG\n",
      "Chosen actions: \n",
      "[[1 3 2 3]\n",
      " [0 0 2 0]\n",
      " [3 1 0 0]\n",
      " [0 2 1 0]]\n",
      "Q-function: \n",
      "[[0.24847637 0.27411473 0.25037465 0.19388944]\n",
      " [0.15010267 0.12416851 0.11571906 0.24727211]\n",
      " [0.18763021 0.19638518 0.21598855 0.20766296]\n",
      " [0.12757202 0.13914623 0.12483574 0.20399476]\n",
      " [0.3194222  0.22462562 0.21558245 0.19521122]\n",
      " [0.         0.         0.         0.        ]\n",
      " [0.22210988 0.15005359 0.23550197 0.06142035]\n",
      " [0.         0.         0.         0.        ]\n",
      " [0.18863049 0.29013629 0.25761589 0.39613182]\n",
      " [0.31852103 0.49807827 0.35012837 0.27301255]\n",
      " [0.50006256 0.41800643 0.33029491 0.23419078]\n",
      " [0.         0.         0.         0.        ]\n",
      " [0.         0.         0.         0.        ]\n",
      " [0.34244792 0.48062016 0.63120644 0.42169692]\n",
      " [0.62380952 0.8056401  0.74171357 0.68217054]\n",
      " [0.         0.         0.         0.        ]]\n"
     ]
    }
   ],
   "source": [
    "value = np.zeros(env.nS)\n",
    "for i in range(env.nS):\n",
    "    value[i] = np.max(q[i])\n",
    "print(\"Epsilon-Optimal Value Function: \")\n",
    "print(value.reshape(4,4))\n",
    "\n",
    "env.reset()\n",
    "env.render()\n",
    "env.close()\n",
    "\n",
    "print(\"Chosen actions: \")\n",
    "print(np.argmax(q, axis = 1).reshape(4,4))\n",
    "\n",
    "print(\"Q-function: \")\n",
    "print(q)"
   ]
  },
  {
   "cell_type": "code",
   "execution_count": null,
   "id": "a63e7f2c",
   "metadata": {},
   "outputs": [],
   "source": []
  }
 ],
 "metadata": {
  "kernelspec": {
   "display_name": "Python 3 (ipykernel)",
   "language": "python",
   "name": "python3"
  },
  "language_info": {
   "codemirror_mode": {
    "name": "ipython",
    "version": 3
   },
   "file_extension": ".py",
   "mimetype": "text/x-python",
   "name": "python",
   "nbconvert_exporter": "python",
   "pygments_lexer": "ipython3",
   "version": "3.7.11"
  },
  "toc": {
   "base_numbering": 1,
   "nav_menu": {},
   "number_sections": true,
   "sideBar": true,
   "skip_h1_title": false,
   "title_cell": "Table of Contents",
   "title_sidebar": "Contents",
   "toc_cell": false,
   "toc_position": {},
   "toc_section_display": true,
   "toc_window_display": false
  },
  "varInspector": {
   "cols": {
    "lenName": 16,
    "lenType": 16,
    "lenVar": 40
   },
   "kernels_config": {
    "python": {
     "delete_cmd_postfix": "",
     "delete_cmd_prefix": "del ",
     "library": "var_list.py",
     "varRefreshCmd": "print(var_dic_list())"
    },
    "r": {
     "delete_cmd_postfix": ") ",
     "delete_cmd_prefix": "rm(",
     "library": "var_list.r",
     "varRefreshCmd": "cat(var_dic_list()) "
    }
   },
   "types_to_exclude": [
    "module",
    "function",
    "builtin_function_or_method",
    "instance",
    "_Feature"
   ],
   "window_display": false
  }
 },
 "nbformat": 4,
 "nbformat_minor": 5
}
