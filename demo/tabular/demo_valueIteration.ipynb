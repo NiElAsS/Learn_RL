{
 "cells": [
  {
   "cell_type": "code",
   "execution_count": 20,
   "id": "c2b2788f",
   "metadata": {
    "ExecuteTime": {
     "end_time": "2021-12-21T20:37:58.363054Z",
     "start_time": "2021-12-21T20:37:58.361147Z"
    }
   },
   "outputs": [],
   "source": [
    "import gym\n",
    "import numpy as np"
   ]
  },
  {
   "cell_type": "code",
   "execution_count": 21,
   "id": "855d1b21",
   "metadata": {
    "ExecuteTime": {
     "end_time": "2021-12-21T20:37:58.883691Z",
     "start_time": "2021-12-21T20:37:58.871134Z"
    }
   },
   "outputs": [],
   "source": [
    "def max_action_value(env, value_function, state, discount):\n",
    "    '''\n",
    "    calculate the max action value\n",
    "    '''\n",
    "    actions = np.zeros(env.nA)\n",
    "    # According to the equation from intro. to RL\n",
    "    for action in range(env.nA):\n",
    "        for prob_state, next_state, reward, done in env.P[state][action]:\n",
    "            actions[action] += prob_state * (reward + discount * value_function[next_state])\n",
    "    return np.max(actions), np.argmax(actions)"
   ]
  },
  {
   "cell_type": "code",
   "execution_count": 22,
   "id": "69c2e429",
   "metadata": {
    "ExecuteTime": {
     "end_time": "2021-12-21T20:37:59.240139Z",
     "start_time": "2021-12-21T20:37:59.229880Z"
    }
   },
   "outputs": [],
   "source": [
    "def value_iteration(env, discount=1, tolerance = 0.0001):\n",
    "    '''\n",
    "    Apply the value iteration method\n",
    "    '''\n",
    "    \n",
    "    # value iteration\n",
    "    # finding optimal value function\n",
    "    value = np.zerosrandom.rand(env.nS)\n",
    "    while True:\n",
    "        delta = 0\n",
    "        for state in range(env.nS):\n",
    "            action_value, _= max_action_value(env, value, state, discount)\n",
    "            delta = max(delta, np.abs(action_value - value[state]))\n",
    "            value[state] = action_value\n",
    "        if delta < tolerance:\n",
    "            break\n",
    "            \n",
    "    # find optimal policy according to optimal value function\n",
    "    policy = np.zeros((env.nS, env.nA))\n",
    "    for state in range(env.nS):\n",
    "        _, optimal_action = max_action_value(env, value, state, discount)\n",
    "        policy[state, optimal_action] = 1.0\n",
    "    \n",
    "    return policy, value"
   ]
  },
  {
   "cell_type": "code",
   "execution_count": 23,
   "id": "538f2e47",
   "metadata": {
    "ExecuteTime": {
     "end_time": "2021-12-21T20:37:59.638162Z",
     "start_time": "2021-12-21T20:37:59.579454Z"
    }
   },
   "outputs": [],
   "source": [
    "env = gym.make('FrozenLake-v1')\n",
    "policy, value = value_iteration(env)"
   ]
  },
  {
   "cell_type": "code",
   "execution_count": 24,
   "id": "de676265",
   "metadata": {
    "ExecuteTime": {
     "end_time": "2021-12-21T20:38:00.093323Z",
     "start_time": "2021-12-21T20:38:00.081807Z"
    }
   },
   "outputs": [
    {
     "name": "stdout",
     "output_type": "stream",
     "text": [
      "The policy distribution: \n",
      "[[1. 0. 0. 0.]\n",
      " [0. 0. 0. 1.]\n",
      " [0. 0. 0. 1.]\n",
      " [0. 0. 0. 1.]\n",
      " [1. 0. 0. 0.]\n",
      " [1. 0. 0. 0.]\n",
      " [1. 0. 0. 0.]\n",
      " [1. 0. 0. 0.]\n",
      " [0. 0. 0. 1.]\n",
      " [0. 1. 0. 0.]\n",
      " [1. 0. 0. 0.]\n",
      " [1. 0. 0. 0.]\n",
      " [1. 0. 0. 0.]\n",
      " [0. 0. 1. 0.]\n",
      " [0. 1. 0. 0.]\n",
      " [1. 0. 0. 0.]]\n",
      "The action in each state: \n",
      "[[0 3 3 3]\n",
      " [0 0 0 0]\n",
      " [3 1 0 0]\n",
      " [0 2 1 0]]\n",
      "\n",
      "\u001b[41mS\u001b[0mFFF\n",
      "FHFH\n",
      "FFFH\n",
      "HFFG\n"
     ]
    }
   ],
   "source": [
    "print(\"The policy distribution: \")\n",
    "print(policy)\n",
    "print(\"The action in each state: \")\n",
    "print(np.reshape(np.argmax(policy, axis=1), (4,4)))\n",
    "env.render()\n",
    "env.close()"
   ]
  },
  {
   "cell_type": "code",
   "execution_count": 25,
   "id": "9c1bdfe4",
   "metadata": {
    "ExecuteTime": {
     "end_time": "2021-12-21T20:38:00.834754Z",
     "start_time": "2021-12-21T20:38:00.832225Z"
    }
   },
   "outputs": [
    {
     "name": "stdout",
     "output_type": "stream",
     "text": [
      "[[0.82182145 0.82126109 0.82087163 0.82067347]\n",
      " [0.82199325 0.         0.52824715 0.        ]\n",
      " [0.82226231 0.82260733 0.76389785 0.        ]\n",
      " [0.         0.88171208 0.94085038 0.        ]]\n"
     ]
    }
   ],
   "source": [
    "print(np.reshape(value, (4,4)))"
   ]
  },
  {
   "cell_type": "code",
   "execution_count": null,
   "id": "e4565845",
   "metadata": {},
   "outputs": [],
   "source": []
  }
 ],
 "metadata": {
  "kernelspec": {
   "display_name": "Python 3 (ipykernel)",
   "language": "python",
   "name": "python3"
  },
  "language_info": {
   "codemirror_mode": {
    "name": "ipython",
    "version": 3
   },
   "file_extension": ".py",
   "mimetype": "text/x-python",
   "name": "python",
   "nbconvert_exporter": "python",
   "pygments_lexer": "ipython3",
   "version": "3.7.11"
  },
  "toc": {
   "base_numbering": 1,
   "nav_menu": {},
   "number_sections": true,
   "sideBar": true,
   "skip_h1_title": false,
   "title_cell": "Table of Contents",
   "title_sidebar": "Contents",
   "toc_cell": false,
   "toc_position": {},
   "toc_section_display": true,
   "toc_window_display": false
  },
  "varInspector": {
   "cols": {
    "lenName": 16,
    "lenType": 16,
    "lenVar": 40
   },
   "kernels_config": {
    "python": {
     "delete_cmd_postfix": "",
     "delete_cmd_prefix": "del ",
     "library": "var_list.py",
     "varRefreshCmd": "print(var_dic_list())"
    },
    "r": {
     "delete_cmd_postfix": ") ",
     "delete_cmd_prefix": "rm(",
     "library": "var_list.r",
     "varRefreshCmd": "cat(var_dic_list()) "
    }
   },
   "types_to_exclude": [
    "module",
    "function",
    "builtin_function_or_method",
    "instance",
    "_Feature"
   ],
   "window_display": false
  }
 },
 "nbformat": 4,
 "nbformat_minor": 5
}
