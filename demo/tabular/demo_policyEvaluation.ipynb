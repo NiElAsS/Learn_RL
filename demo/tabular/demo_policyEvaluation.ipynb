{
 "cells": [
  {
   "cell_type": "code",
   "execution_count": 48,
   "id": "a34b401b",
   "metadata": {
    "ExecuteTime": {
     "end_time": "2021-12-21T19:04:34.665265Z",
     "start_time": "2021-12-21T19:04:34.659978Z"
    }
   },
   "outputs": [],
   "source": [
    "import gym\n",
    "import numpy as np"
   ]
  },
  {
   "cell_type": "code",
   "execution_count": 49,
   "id": "7ad25954",
   "metadata": {
    "ExecuteTime": {
     "end_time": "2021-12-21T19:04:34.851118Z",
     "start_time": "2021-12-21T19:04:34.844890Z"
    }
   },
   "outputs": [
    {
     "data": {
      "text/plain": [
       "0"
      ]
     },
     "execution_count": 49,
     "metadata": {},
     "output_type": "execute_result"
    }
   ],
   "source": [
    "env = gym.make('FrozenLake-v1')\n",
    "env.reset()"
   ]
  },
  {
   "cell_type": "code",
   "execution_count": 50,
   "id": "da540c31",
   "metadata": {
    "ExecuteTime": {
     "end_time": "2021-12-21T19:04:35.010913Z",
     "start_time": "2021-12-21T19:04:35.006310Z"
    }
   },
   "outputs": [
    {
     "name": "stdout",
     "output_type": "stream",
     "text": [
      "Discrete(4)\n",
      "Discrete(16)\n"
     ]
    }
   ],
   "source": [
    "print(env.action_space)\n",
    "print(env.observation_space)\n",
    "# print(env.observation_space.high)\n",
    "# print(env.observation_space.low)\n",
    "\n",
    "# print(env.P[0][0])\n",
    "#    P: transitions\n",
    "#       dictionary of lists, where\n",
    "#    P[s][a] == [(probability, nextstate, reward, done), ...]"
   ]
  },
  {
   "cell_type": "code",
   "execution_count": 51,
   "id": "827d5f67",
   "metadata": {
    "ExecuteTime": {
     "end_time": "2021-12-21T19:04:35.206985Z",
     "start_time": "2021-12-21T19:04:35.195723Z"
    }
   },
   "outputs": [],
   "source": [
    "def policy_eval(policy, env, discount_factor = 1.0, tolerance = 0.00001):\n",
    "    \n",
    "    '''\n",
    "    Input: \n",
    "        policy: the policy which is evaluated\n",
    "                A numpy array with shape [env.nS, env.nA]\n",
    "        env: the environment\n",
    "             env.P[s][a] is the transition\n",
    "             env.nS is number of states\n",
    "             env.nA is number of actions\n",
    "        discount_factor: Assume no discount here\n",
    "        tolerance: the precision\n",
    "    Output:\n",
    "        value: a numpy array with shape [env.nS]\n",
    "        '''\n",
    "    \n",
    "    numState = env.nS\n",
    "    value = np.zeros(numState)\n",
    "    while True:\n",
    "        # delta records the change\n",
    "        delta = 0 \n",
    "        for state in range(numState):\n",
    "            v = 0\n",
    "            for action, prob_action in enumerate(policy[state]):\n",
    "                for prob_state, next_state, reward, done in env.P[state][action]:\n",
    "                    v += prob_action * prob_state * (reward + discount_factor * value[next_state])\n",
    "            delta = max(delta, np.abs(v - value[state]))\n",
    "            value[state] = v\n",
    "        \n",
    "        if delta < tolerance:\n",
    "            break\n",
    "    return value"
   ]
  },
  {
   "cell_type": "code",
   "execution_count": 52,
   "id": "ff88b318",
   "metadata": {
    "ExecuteTime": {
     "end_time": "2021-12-21T19:04:35.793377Z",
     "start_time": "2021-12-21T19:04:35.782301Z"
    }
   },
   "outputs": [],
   "source": [
    "policy = np.ones((env.nS, env.nA)) / env.nA\n",
    "value_table = policy_eval(policy, env)"
   ]
  },
  {
   "cell_type": "code",
   "execution_count": 53,
   "id": "c1f7a573",
   "metadata": {
    "ExecuteTime": {
     "end_time": "2021-12-21T19:04:36.211107Z",
     "start_time": "2021-12-21T19:04:36.202796Z"
    }
   },
   "outputs": [
    {
     "name": "stdout",
     "output_type": "stream",
     "text": [
      "The value function: \n",
      "\n",
      "[[0.013911   0.01161424 0.02094062 0.01046758]\n",
      " [0.01623478 0.         0.04074774 0.        ]\n",
      " [0.03479961 0.08816698 0.14205099 0.        ]\n",
      " [0.         0.17581855 0.4392897  0.        ]]\n",
      "\n",
      "\u001b[41mS\u001b[0mFFF\n",
      "FHFH\n",
      "FFFH\n",
      "HFFG\n"
     ]
    }
   ],
   "source": [
    "print(\"The value function: \\n\")\n",
    "print(value_table.reshape(4,4))\n",
    "env.render()\n",
    "env.close()"
   ]
  },
  {
   "cell_type": "code",
   "execution_count": null,
   "id": "5c3e3244",
   "metadata": {},
   "outputs": [],
   "source": []
  }
 ],
 "metadata": {
  "kernelspec": {
   "display_name": "Python 3 (ipykernel)",
   "language": "python",
   "name": "python3"
  },
  "language_info": {
   "codemirror_mode": {
    "name": "ipython",
    "version": 3
   },
   "file_extension": ".py",
   "mimetype": "text/x-python",
   "name": "python",
   "nbconvert_exporter": "python",
   "pygments_lexer": "ipython3",
   "version": "3.7.11"
  },
  "toc": {
   "base_numbering": 1,
   "nav_menu": {},
   "number_sections": true,
   "sideBar": true,
   "skip_h1_title": false,
   "title_cell": "Table of Contents",
   "title_sidebar": "Contents",
   "toc_cell": false,
   "toc_position": {},
   "toc_section_display": true,
   "toc_window_display": false
  },
  "varInspector": {
   "cols": {
    "lenName": 16,
    "lenType": 16,
    "lenVar": 40
   },
   "kernels_config": {
    "python": {
     "delete_cmd_postfix": "",
     "delete_cmd_prefix": "del ",
     "library": "var_list.py",
     "varRefreshCmd": "print(var_dic_list())"
    },
    "r": {
     "delete_cmd_postfix": ") ",
     "delete_cmd_prefix": "rm(",
     "library": "var_list.r",
     "varRefreshCmd": "cat(var_dic_list()) "
    }
   },
   "types_to_exclude": [
    "module",
    "function",
    "builtin_function_or_method",
    "instance",
    "_Feature"
   ],
   "window_display": false
  }
 },
 "nbformat": 4,
 "nbformat_minor": 5
}
