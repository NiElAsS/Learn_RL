{
 "cells": [
  {
   "cell_type": "code",
   "execution_count": 11,
   "id": "671f9f4e",
   "metadata": {
    "ExecuteTime": {
     "end_time": "2021-12-28T11:43:09.276821Z",
     "start_time": "2021-12-28T11:43:09.171631Z"
    }
   },
   "outputs": [],
   "source": [
    "import gym\n",
    "import numpy as np\n",
    "import matplotlib.pyplot as plt"
   ]
  },
  {
   "cell_type": "code",
   "execution_count": 12,
   "id": "7269358e",
   "metadata": {
    "ExecuteTime": {
     "end_time": "2021-12-28T11:43:10.133194Z",
     "start_time": "2021-12-28T11:43:10.130908Z"
    }
   },
   "outputs": [],
   "source": [
    "def epsilon_greedy_policy(q_function, state, eps):\n",
    "    \"\"\"\n",
    "    Return a action according to Q-function\n",
    "    \"\"\"\n",
    "\n",
    "    if np.random.uniform() > eps:\n",
    "        return np.argmax(q_function[state]) # optimal action\n",
    "    else:\n",
    "        return np.random.choice(len(q_function[state])) # random action"
   ]
  },
  {
   "cell_type": "code",
   "execution_count": 76,
   "id": "27c4f0cf",
   "metadata": {
    "ExecuteTime": {
     "end_time": "2021-12-28T11:52:20.557518Z",
     "start_time": "2021-12-28T11:52:20.543994Z"
    }
   },
   "outputs": [],
   "source": [
    "def q_learning(env, \n",
    "               policy = epsilon_greedy_policy, \n",
    "               episodes = 200000, \n",
    "               discount = 1.0, \n",
    "               alpha = 0.01, \n",
    "               epsilon = 0.1):\n",
    "    \"\"\"\n",
    "    Apply Q-learning method\n",
    "    \n",
    "    Return:\n",
    "        q_function: Q-funciton (np.array (nS, nA))\n",
    "        accumulate_reward_per_episode: record the accumulative rewards of episodes for plotting (list)\n",
    "    \"\"\"\n",
    "    \n",
    "    q_function = np.random.rand(env.nS, env.nA)\n",
    "    # q_function = np.zeros((env.nS, env.nA))\n",
    "    \n",
    "    accumulate_reward_per_episode = [] # for plot\n",
    "    accumulate_reward = 0\n",
    "    \n",
    "    for i in range(episodes):\n",
    "        \n",
    "        state = env.reset()\n",
    "        \n",
    "        \n",
    "        for t in range(10000):\n",
    "            \n",
    "            action = policy(q_function, state, epsilon)\n",
    "            next_state, reward, done, _ = env.step(action)\n",
    "            \n",
    "            optimal_action = np.argmax(q_function[next_state])\n",
    "            \n",
    "            td_target = reward + discount * q_function[next_state][optimal_action]\n",
    "            td_error = td_target - q_function[state][action]\n",
    "            q_function[state][action] += alpha * td_error\n",
    "            \n",
    "            accumulate_reward += reward # for plot\n",
    "            \n",
    "            if done:\n",
    "                break\n",
    "            \n",
    "            state = next_state\n",
    "\n",
    "        accumulate_reward_per_episode.append(accumulate_reward)\n",
    "        \n",
    "    return q_function, accumulate_reward_per_episode\n"
   ]
  },
  {
   "cell_type": "code",
   "execution_count": 77,
   "id": "19879f55",
   "metadata": {
    "ExecuteTime": {
     "end_time": "2021-12-28T11:52:20.936627Z",
     "start_time": "2021-12-28T11:52:20.930421Z"
    }
   },
   "outputs": [],
   "source": [
    "env = gym.make('FrozenLake-v1')"
   ]
  },
  {
   "cell_type": "code",
   "execution_count": 82,
   "id": "fc3b6a76",
   "metadata": {
    "ExecuteTime": {
     "end_time": "2021-12-28T11:56:26.502466Z",
     "start_time": "2021-12-28T11:55:47.718504Z"
    }
   },
   "outputs": [],
   "source": [
    "q, r = q_learning(env)"
   ]
  },
  {
   "cell_type": "code",
   "execution_count": 83,
   "id": "3192766c",
   "metadata": {
    "ExecuteTime": {
     "end_time": "2021-12-28T11:56:26.546388Z",
     "start_time": "2021-12-28T11:56:26.544415Z"
    }
   },
   "outputs": [],
   "source": [
    "value = np.zeros(env.nS)\n",
    "for i in range(env.nS):\n",
    "    value[i] = np.max(q[i])"
   ]
  },
  {
   "cell_type": "code",
   "execution_count": 84,
   "id": "28ae5c31",
   "metadata": {
    "ExecuteTime": {
     "end_time": "2021-12-28T11:56:26.590608Z",
     "start_time": "2021-12-28T11:56:26.587932Z"
    }
   },
   "outputs": [
    {
     "name": "stdout",
     "output_type": "stream",
     "text": [
      "[[0 3 0 1]\n",
      " [0 0 0 1]\n",
      " [3 1 0 0]\n",
      " [0 2 1 3]]\n",
      "[[1.21856905 1.15651557 1.10190758 0.9208724 ]\n",
      " [1.21880611 0.83005238 1.02144438 0.77636339]\n",
      " [1.21947098 1.21934915 1.17940598 0.94839018]\n",
      " [0.71563504 1.2558458  1.28707639 0.32498242]]\n",
      "--------------- ENV ---------------\n",
      "\n",
      "\u001b[41mS\u001b[0mFFF\n",
      "FHFH\n",
      "FFFH\n",
      "HFFG\n"
     ]
    }
   ],
   "source": [
    "print(np.argmax(q, axis = 1).reshape(4, 4))\n",
    "print(value.reshape(4,4))\n",
    "\n",
    "print(\"-\" * 15, \"ENV\", \"-\" * 15)\n",
    "env.reset()\n",
    "env.render()\n",
    "env.close()"
   ]
  },
  {
   "cell_type": "code",
   "execution_count": 85,
   "id": "1c144475",
   "metadata": {
    "ExecuteTime": {
     "end_time": "2021-12-28T11:56:26.739203Z",
     "start_time": "2021-12-28T11:56:26.631712Z"
    }
   },
   "outputs": [
    {
     "data": {
      "image/png": "[encoded data removed]",
      "text/plain": [
       "<Figure size 432x288 with 1 Axes>"
      ]
     },
     "metadata": {
      "needs_background": "light"
     },
     "output_type": "display_data"
    }
   ],
   "source": [
    "x = [i for i in range(len(r))]\n",
    "y = r\n",
    "plt.plot(x, y)\n",
    "plt.xlabel(\"Episodes\")\n",
    "plt.ylabel(\"Accumulated rewards\")\n",
    "plt.grid()\n",
    "plt.show()"
   ]
  },
  {
   "cell_type": "code",
   "execution_count": null,
   "id": "42b2213c",
   "metadata": {},
   "outputs": [],
   "source": []
  }
 ],
 "metadata": {
  "kernelspec": {
   "display_name": "Python 3 (ipykernel)",
   "language": "python",
   "name": "python3"
  },
  "language_info": {
   "codemirror_mode": {
    "name": "ipython",
    "version": 3
   },
   "file_extension": ".py",
   "mimetype": "text/x-python",
   "name": "python",
   "nbconvert_exporter": "python",
   "pygments_lexer": "ipython3",
   "version": "3.7.11"
  },
  "toc": {
   "base_numbering": 1,
   "nav_menu": {},
   "number_sections": true,
   "sideBar": true,
   "skip_h1_title": false,
   "title_cell": "Table of Contents",
   "title_sidebar": "Contents",
   "toc_cell": false,
   "toc_position": {},
   "toc_section_display": true,
   "toc_window_display": false
  },
  "varInspector": {
   "cols": {
    "lenName": 16,
    "lenType": 16,
    "lenVar": 40
   },
   "kernels_config": {
    "python": {
     "delete_cmd_postfix": "",
     "delete_cmd_prefix": "del ",
     "library": "var_list.py",
     "varRefreshCmd": "print(var_dic_list())"
    },
    "r": {
     "delete_cmd_postfix": ") ",
     "delete_cmd_prefix": "rm(",
     "library": "var_list.r",
     "varRefreshCmd": "cat(var_dic_list()) "
    }
   },
   "types_to_exclude": [
    "module",
    "function",
    "builtin_function_or_method",
    "instance",
    "_Feature"
   ],
   "window_display": false
  }
 },
 "nbformat": 4,
 "nbformat_minor": 5
}
