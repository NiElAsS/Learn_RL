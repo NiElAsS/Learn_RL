{
 "cells": [
  {
   "cell_type": "code",
   "execution_count": 52,
   "id": "3a921f81",
   "metadata": {
    "ExecuteTime": {
     "end_time": "2021-12-28T11:30:01.072551Z",
     "start_time": "2021-12-28T11:30:01.064956Z"
    }
   },
   "outputs": [],
   "source": [
    "import gym\n",
    "import numpy as np\n",
    "import matplotlib.pyplot as plt"
   ]
  },
  {
   "cell_type": "code",
   "execution_count": 53,
   "id": "81cabb0a",
   "metadata": {
    "ExecuteTime": {
     "end_time": "2021-12-28T11:30:01.208614Z",
     "start_time": "2021-12-28T11:30:01.204503Z"
    }
   },
   "outputs": [],
   "source": [
    "def epsilon_greedy_policy(q_function, state, eps):\n",
    "    \"\"\"\n",
    "    Return a action according to Q-function\n",
    "    \"\"\"\n",
    "\n",
    "    if np.random.uniform() > eps:\n",
    "        return np.argmax(q_function[state]) # optimal action\n",
    "    else:\n",
    "        return np.random.choice(len(q_function[state])) # random action"
   ]
  },
  {
   "cell_type": "code",
   "execution_count": 73,
   "id": "615cc35a",
   "metadata": {
    "ExecuteTime": {
     "end_time": "2021-12-28T11:34:41.451862Z",
     "start_time": "2021-12-28T11:34:41.444570Z"
    }
   },
   "outputs": [],
   "source": [
    "def sarsa(env, policy = epsilon_greedy_policy, episodes = 200000, discount = 1, alpha = 0.01, epsilon = 0.1):\n",
    "    \"\"\"\n",
    "    Apply sarsa method\n",
    "    \n",
    "    Return:\n",
    "        q_function: Q-funciton (np.array (nS, nA))\n",
    "        accumulate_reward_per_episode: record the accumulative rewards of episodes for plotting (list)\n",
    "    \"\"\"\n",
    "    \n",
    "\n",
    "    q_function = np.random.rand(env.nS, env.nA)\n",
    "    # q_function = np.zeros((env.nS, env.nA))\n",
    "    \n",
    "    accumulate_reward_per_episode = [] # for plot\n",
    "    accumulate_reward = 0\n",
    "    \n",
    "    for i in range(episodes):\n",
    "        \n",
    "        state = env.reset()\n",
    "        action = policy(q_function, state, epsilon)\n",
    "        \n",
    "        for t in range(10000):\n",
    "            next_state, reward, done, _ = env.step(action)\n",
    "            next_action = policy(q_function, next_state, epsilon)\n",
    "            \n",
    "            td_target = reward + discount * q_function[next_state][next_action]\n",
    "            td_error = td_target - q_function[state][action]\n",
    "            q_function[state][action] += alpha * td_error\n",
    "            \n",
    "            accumulate_reward += reward # for plot\n",
    "            \n",
    "            if done:\n",
    "                break\n",
    "            \n",
    "            action = next_action\n",
    "            state = next_state\n",
    "\n",
    "        accumulate_reward_per_episode.append(accumulate_reward)\n",
    "        \n",
    "    return q_function, accumulate_reward_per_episode\n",
    "            "
   ]
  },
  {
   "cell_type": "code",
   "execution_count": 74,
   "id": "4dd84374",
   "metadata": {
    "ExecuteTime": {
     "end_time": "2021-12-28T11:34:42.846886Z",
     "start_time": "2021-12-28T11:34:42.840638Z"
    }
   },
   "outputs": [],
   "source": [
    "env = gym.make('FrozenLake-v1')"
   ]
  },
  {
   "cell_type": "code",
   "execution_count": 75,
   "id": "c54c503b",
   "metadata": {
    "ExecuteTime": {
     "end_time": "2021-12-28T11:35:36.650686Z",
     "start_time": "2021-12-28T11:34:43.190265Z"
    }
   },
   "outputs": [],
   "source": [
    "q, r = sarsa(env)"
   ]
  },
  {
   "cell_type": "code",
   "execution_count": 76,
   "id": "9e30afc3",
   "metadata": {
    "ExecuteTime": {
     "end_time": "2021-12-28T11:35:36.713905Z",
     "start_time": "2021-12-28T11:35:36.712149Z"
    }
   },
   "outputs": [],
   "source": [
    "value = np.zeros(env.nS)\n",
    "for i in range(env.nS):\n",
    "    value[i] = np.max(q[i])"
   ]
  },
  {
   "cell_type": "code",
   "execution_count": 81,
   "id": "2e988456",
   "metadata": {
    "ExecuteTime": {
     "end_time": "2021-12-28T11:37:30.251641Z",
     "start_time": "2021-12-28T11:37:30.248140Z"
    }
   },
   "outputs": [
    {
     "name": "stdout",
     "output_type": "stream",
     "text": [
      "[[0 3 3 3]\n",
      " [0 1 2 1]\n",
      " [3 1 0 1]\n",
      " [0 2 1 1]]\n",
      "[[1.21855586 1.15164373 1.09623257 1.06584308]\n",
      " [1.24037808 0.73087344 1.01906529 0.65156487]\n",
      " [1.28729868 1.3761768  1.36944727 0.97438975]\n",
      " [0.92363721 1.49838118 1.69286707 0.91138634]]\n",
      "--------------- ENV ---------------\n",
      "\n",
      "\u001b[41mS\u001b[0mFFF\n",
      "FHFH\n",
      "FFFH\n",
      "HFFG\n"
     ]
    }
   ],
   "source": [
    "print(np.argmax(q, axis = 1).reshape(4, 4))\n",
    "print(value.reshape(4,4))\n",
    "\n",
    "print(\"-\" * 15, \"ENV\", \"-\" * 15)\n",
    "env.reset()\n",
    "env.render()\n",
    "env.close()"
   ]
  },
  {
   "cell_type": "code",
   "execution_count": 82,
   "id": "66729291",
   "metadata": {
    "ExecuteTime": {
     "end_time": "2021-12-28T11:49:19.901575Z",
     "start_time": "2021-12-28T11:49:19.798210Z"
    }
   },
   "outputs": [
    {
     "data": {
      "image/png": "[encoded data removed]",
      "text/plain": [
       "<Figure size 432x288 with 1 Axes>"
      ]
     },
     "metadata": {
      "needs_background": "light"
     },
     "output_type": "display_data"
    }
   ],
   "source": [
    "x = [i for i in range(len(r))]\n",
    "y = r\n",
    "plt.plot(x, y)\n",
    "plt.xlabel(\"Episodes\")\n",
    "plt.ylabel(\"Accumulated rewards\")\n",
    "plt.grid()\n",
    "plt.show()"
   ]
  },
  {
   "cell_type": "code",
   "execution_count": null,
   "id": "c949b411",
   "metadata": {},
   "outputs": [],
   "source": []
  }
 ],
 "metadata": {
  "kernelspec": {
   "display_name": "Python 3 (ipykernel)",
   "language": "python",
   "name": "python3"
  },
  "language_info": {
   "codemirror_mode": {
    "name": "ipython",
    "version": 3
   },
   "file_extension": ".py",
   "mimetype": "text/x-python",
   "name": "python",
   "nbconvert_exporter": "python",
   "pygments_lexer": "ipython3",
   "version": "3.7.11"
  },
  "toc": {
   "base_numbering": 1,
   "nav_menu": {},
   "number_sections": true,
   "sideBar": true,
   "skip_h1_title": false,
   "title_cell": "Table of Contents",
   "title_sidebar": "Contents",
   "toc_cell": false,
   "toc_position": {},
   "toc_section_display": true,
   "toc_window_display": false
  },
  "varInspector": {
   "cols": {
    "lenName": 16,
    "lenType": 16,
    "lenVar": 40
   },
   "kernels_config": {
    "python": {
     "delete_cmd_postfix": "",
     "delete_cmd_prefix": "del ",
     "library": "var_list.py",
     "varRefreshCmd": "print(var_dic_list())"
    },
    "r": {
     "delete_cmd_postfix": ") ",
     "delete_cmd_prefix": "rm(",
     "library": "var_list.r",
     "varRefreshCmd": "cat(var_dic_list()) "
    }
   },
   "types_to_exclude": [
    "module",
    "function",
    "builtin_function_or_method",
    "instance",
    "_Feature"
   ],
   "window_display": false
  }
 },
 "nbformat": 4,
 "nbformat_minor": 5
}
